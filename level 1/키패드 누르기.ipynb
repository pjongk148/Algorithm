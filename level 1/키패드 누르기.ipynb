{
 "cells": [
  {
   "cell_type": "code",
   "execution_count": 1,
   "metadata": {},
   "outputs": [],
   "source": [
    "def solution(numbers, hand):\n",
    "    mesh=[]\n",
    "    x = [0,1,2]\n",
    "    y = [0,1,2,3]\n",
    "    [mesh.append([i,v]) for i in x for v in y]\n",
    "    arr = [\"*\",7,4,1,0,8,5,2,\"#\",9,6,3]\n",
    "    num={}\n",
    "    for i,v in zip(arr, mesh):\n",
    "        num[i]=v\n",
    "    \n",
    "    L = \"*\"\n",
    "    R = \"#\"\n",
    "    right = {3:\"R\",6:\"R\",9:\"R\"}\n",
    "    left = {1:\"L\",4:\"L\",7:\"L\"}\n",
    "\n",
    "    answer = \"\"\n",
    "    for i,v in enumerate(numbers):\n",
    "        if v in left:        \n",
    "            answer += left[v]\n",
    "            L = v\n",
    "        elif v in right:\n",
    "            answer += right[v]\n",
    "            R = v\n",
    "        else:\n",
    "\n",
    "            if abs(num[v][0]- num[L][0])+ abs(num[v][1]-num[L][1]) > abs(num[v][0]- num[R][0])+ abs(num[v][1]-num[R][1]):\n",
    "                answer += \"R\"\n",
    "                R = v\n",
    "\n",
    "            elif abs(num[v][0]- num[L][0])+ abs(num[v][1]-num[L][1]) < abs(num[v][0]- num[R][0])+ abs(num[v][1]-num[R][1]):\n",
    "                answer += \"L\"\n",
    "                L = v\n",
    "            else:\n",
    "                if hand[0].upper() ==\"R\":\n",
    "                    answer += hand[0].upper()\n",
    "                    R = v\n",
    "                else:\n",
    "                    answer += hand[0].upper()\n",
    "                    L = v\n",
    "    return answer"
   ]
  }
 ],
 "metadata": {
  "kernelspec": {
   "display_name": "Python 3",
   "language": "python",
   "name": "python3"
  },
  "language_info": {
   "codemirror_mode": {
    "name": "ipython",
    "version": 3
   },
   "file_extension": ".py",
   "mimetype": "text/x-python",
   "name": "python",
   "nbconvert_exporter": "python",
   "pygments_lexer": "ipython3",
   "version": "3.8.5"
  }
 },
 "nbformat": 4,
 "nbformat_minor": 4
}
