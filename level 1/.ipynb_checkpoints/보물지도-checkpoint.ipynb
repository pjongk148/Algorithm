{
 "cells": [
  {
   "cell_type": "code",
   "execution_count": 15,
   "metadata": {},
   "outputs": [],
   "source": [
    "n = 5\n",
    "arr1 = [9, 20, 28, 18, 11]\n",
    "arr2 = [30, 1, 21, 17, 28]\n"
   ]
  },
  {
   "cell_type": "code",
   "execution_count": 25,
   "metadata": {},
   "outputs": [],
   "source": [
    "n = 6\n",
    "arr1 = [46, 33, 33 ,22, 31, 50]\n",
    "arr2 = [27 ,56, 19, 14, 14, 10]"
   ]
  },
  {
   "cell_type": "code",
   "execution_count": 51,
   "metadata": {},
   "outputs": [],
   "source": [
    "n=5\n",
    "arr1 =[0, 0, 0, 0, 0] \n",
    "arr2 = [30, 1, 21, 17, 28]"
   ]
  },
  {
   "cell_type": "code",
   "execution_count": 69,
   "metadata": {},
   "outputs": [],
   "source": [
    "def solution(n, arr1, arr2):\n",
    "    answer =[]\n",
    "    for i in range(n):\n",
    "        if arr1[i] < 2**(n-1) and arr2[i] < 2**(n-1):\n",
    "            answer.append(\"0\" *(n - len(bin(max(arr2[i],arr1[i]))[2:])) + str(int(bin(arr1[i])[2:]) + int(bin(arr2[i])[2:])))\n",
    "        else:\n",
    "            answer.append(str(int(bin(arr1[i])[2:]) + int(bin(arr2[i])[2:])))\n",
    "    for i in range(len(answer)):\n",
    "        answer[i] = answer[i].replace(\"1\",\"#\")\n",
    "        answer[i] = answer[i].replace(\"2\",\"#\")\n",
    "        answer[i] = answer[i].replace(\"0\",\" \")\n",
    "    return answer"
   ]
  },
  {
   "cell_type": "markdown",
   "metadata": {},
   "source": [
    "bin 연산자 사용방법:\n",
    "    bin(i|j) 이런식으로 사용한다\n",
    "    또한 숫자길이가 n보다 작을 경우\n",
    "    rjust를 사용해서 오른쪽 정렬 후 출력할 수 있다."
   ]
  }
 ],
 "metadata": {
  "kernelspec": {
   "display_name": "Python 3",
   "language": "python",
   "name": "python3"
  },
  "language_info": {
   "codemirror_mode": {
    "name": "ipython",
    "version": 3
   },
   "file_extension": ".py",
   "mimetype": "text/x-python",
   "name": "python",
   "nbconvert_exporter": "python",
   "pygments_lexer": "ipython3",
   "version": "3.8.5"
  }
 },
 "nbformat": 4,
 "nbformat_minor": 4
}
