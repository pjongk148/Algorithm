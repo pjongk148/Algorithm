{
 "cells": [
  {
   "cell_type": "code",
   "execution_count": 114,
   "metadata": {},
   "outputs": [],
   "source": [
    "dartResult =\"1D2S#10S\""
   ]
  },
  {
   "cell_type": "code",
   "execution_count": 130,
   "metadata": {},
   "outputs": [
    {
     "data": {
      "text/plain": [
       "9"
      ]
     },
     "execution_count": 130,
     "metadata": {},
     "output_type": "execute_result"
    }
   ],
   "source": [
    "count = list(dartResult)\n",
    "answer =[]\n",
    "for i,v in enumerate(count):\n",
    "    \n",
    "    if v == \"S\":\n",
    "        continue\n",
    "    \n",
    "    \n",
    "    elif v == \"D\":\n",
    "        answer[-1] = answer[-1] **2\n",
    "        \n",
    "        \n",
    "    elif v == \"T\":\n",
    "        answer[-1] = answer[-1] **3\n",
    "        \n",
    "        \n",
    "    elif v == \"#\":\n",
    "        answer[-1] = -answer[-1]\n",
    "        \n",
    "        \n",
    "    elif v == \"*\":\n",
    "        if i == 2:\n",
    "            answer[-1] = answer[-1] * 2\n",
    "            continue\n",
    "        else:\n",
    "            answer[-1] = answer[-1] * 2\n",
    "            answer[-2] = answer[-2] * 2\n",
    "            \n",
    "    elif v == \"1\":\n",
    "        if count[i+1] ==\"0\":\n",
    "            answer.append(10)\n",
    "            \n",
    "        else:\n",
    "            answer.append(1)\n",
    "    \n",
    "    elif v =='0':\n",
    "        if count[i-1] == \"1\":\n",
    "            continue\n",
    "        \n",
    "        else:\n",
    "            answer.append(int(v))\n",
    "        \n",
    "    \n",
    "    else:\n",
    "        answer.append(int(v))\n",
    "        \n",
    "\n",
    "sum(answer)"
   ]
  },
  {
   "cell_type": "code",
   "execution_count": 131,
   "metadata": {
    "scrolled": true
   },
   "outputs": [
    {
     "name": "stdout",
     "output_type": "stream",
     "text": [
      "1\n",
      "D\n",
      "2\n",
      "S\n",
      "#\n",
      "1\n",
      "0\n",
      "S\n"
     ]
    }
   ],
   "source": [
    "for i, d in enumerate(dartResult):\n",
    "    print(d)"
   ]
  },
  {
   "cell_type": "code",
   "execution_count": 132,
   "metadata": {},
   "outputs": [
    {
     "data": {
      "text/plain": [
       "True"
      ]
     },
     "execution_count": 132,
     "metadata": {},
     "output_type": "execute_result"
    }
   ],
   "source": [
    "\"1\".isnumeric()"
   ]
  },
  {
   "cell_type": "markdown",
   "metadata": {},
   "source": [
    "## 고찰:\n",
    "    1. 정규표현식을 사용했어도 충분히 좋았을 것 같다\n",
    "    2. *에 대해서 그냥 answer[-2:] 했어도 좋았을 것\n",
    "    3. SDT에 대해서 dict 활용해 볼 것\n",
    "    4. 10에 대해서 replace 활용하면 1,0 을 조건문에 넣지 않아도 됐을 것"
   ]
  }
 ],
 "metadata": {
  "kernelspec": {
   "display_name": "Python 3",
   "language": "python",
   "name": "python3"
  },
  "language_info": {
   "codemirror_mode": {
    "name": "ipython",
    "version": 3
   },
   "file_extension": ".py",
   "mimetype": "text/x-python",
   "name": "python",
   "nbconvert_exporter": "python",
   "pygments_lexer": "ipython3",
   "version": "3.8.5"
  }
 },
 "nbformat": 4,
 "nbformat_minor": 4
}
