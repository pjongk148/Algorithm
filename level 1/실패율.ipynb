{
 "cells": [
  {
   "cell_type": "code",
   "execution_count": 140,
   "metadata": {},
   "outputs": [],
   "source": [
    "N = 5\n",
    "stages=[4,4,4,4,4]"
   ]
  },
  {
   "cell_type": "markdown",
   "metadata": {},
   "source": [
    "1번 스테이지 깬 사람: 7/8\n",
    "2번 스테이지 깬 사람: 4/7\n",
    "3번 스테이지 깬 사람: 2/4\n",
    "4번 스테이지 깬 사람: 1/2\n",
    "5번 스테이지 깬 사람: 1/1"
   ]
  },
  {
   "cell_type": "code",
   "execution_count": 141,
   "metadata": {},
   "outputs": [],
   "source": [
    "stages.sort(reverse=True)\n",
    "capacity = {}\n",
    "for i in range(1,N+1):\n",
    "    if i not in stages:\n",
    "        capacity[i] = 1\n",
    "        \n",
    "    else:\n",
    "        capacity[i] = 1 - (stages.count(i)/(stages.count(i) + stages.index(i)))\n",
    "\n",
    "sorted_dict = sorted(capacity.items(), key = lambda item: item[1])\n",
    "answer = [i[0] for i in sorted_dict]"
   ]
  }
 ],
 "metadata": {
  "kernelspec": {
   "display_name": "Python 3",
   "language": "python",
   "name": "python3"
  },
  "language_info": {
   "codemirror_mode": {
    "name": "ipython",
    "version": 3
   },
   "file_extension": ".py",
   "mimetype": "text/x-python",
   "name": "python",
   "nbconvert_exporter": "python",
   "pygments_lexer": "ipython3",
   "version": "3.8.5"
  }
 },
 "nbformat": 4,
 "nbformat_minor": 4
}
