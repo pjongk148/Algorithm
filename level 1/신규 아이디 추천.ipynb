{
 "cells": [
  {
   "cell_type": "code",
   "execution_count": null,
   "metadata": {},
   "outputs": [],
   "source": [
    "import re\n",
    "def solution(new_id):\n",
    "    new_id = new_id.lower()\n",
    "    new_id = re.sub('[^a-zA-Z0-9-_.]', '', new_id)\n",
    "    new_id = re.sub('[..]+', '.', new_id)\n",
    "    \n",
    "    if len(new_id) == 0:\n",
    "        new_id = \"a\"\n",
    "        \n",
    "    while len(new_id) < 3 :\n",
    "        new_id +=  new_id[-1]\n",
    "    new_id = new_id[:15]\n",
    "    new_id = new_id.strip(\".\")\n",
    "    answer = new_id\n",
    "    return answer"
   ]
  }
 ],
 "metadata": {
  "kernelspec": {
   "display_name": "Python 3",
   "language": "python",
   "name": "python3"
  },
  "language_info": {
   "codemirror_mode": {
    "name": "ipython",
    "version": 3
   },
   "file_extension": ".py",
   "mimetype": "text/x-python",
   "name": "python",
   "nbconvert_exporter": "python",
   "pygments_lexer": "ipython3",
   "version": "3.8.5"
  }
 },
 "nbformat": 4,
 "nbformat_minor": 4
}
