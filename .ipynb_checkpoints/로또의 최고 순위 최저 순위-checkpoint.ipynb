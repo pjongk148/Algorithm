{
 "cells": [
  {
   "cell_type": "code",
   "execution_count": 1,
   "metadata": {},
   "outputs": [],
   "source": [
    "def solution(lottos, win_nums):\n",
    "    h_rank = 7 - len(set(lottos) & set(win_nums)) - lottos.count(0)\n",
    "    l_rank = 7 - len(set(lottos) & set(win_nums))\n",
    "    if l_rank == 7:\n",
    "        l_rank = 6\n",
    "    if h_rank == 7:\n",
    "        h_rank = 6\n",
    "    answer = [h_rank,l_rank]\n",
    "    return answer"
   ]
  }
 ],
 "metadata": {
  "kernelspec": {
   "display_name": "Python 3",
   "language": "python",
   "name": "python3"
  },
  "language_info": {
   "codemirror_mode": {
    "name": "ipython",
    "version": 3
   },
   "file_extension": ".py",
   "mimetype": "text/x-python",
   "name": "python",
   "nbconvert_exporter": "python",
   "pygments_lexer": "ipython3",
   "version": "3.8.5"
  }
 },
 "nbformat": 4,
 "nbformat_minor": 4
}
