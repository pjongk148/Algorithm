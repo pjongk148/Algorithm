{
 "cells": [
  {
   "cell_type": "code",
   "execution_count": 1,
   "metadata": {},
   "outputs": [],
   "source": [
    "s =\"aabbaccc\"\n",
    "#s = \"ababcdcdababcdcd\"\n",
    "# s =\"xababcdcdababcdcd\""
   ]
  },
  {
   "cell_type": "code",
   "execution_count": 217,
   "metadata": {},
   "outputs": [],
   "source": [
    "def solution(s):\n",
    "    if len(s) == 1:\n",
    "        answer = 1\n",
    "\n",
    "    words=\"\"\n",
    "    answer =[]\n",
    "    count =1\n",
    "    for unit in range(1,len(s)//2+1):\n",
    "\n",
    "        last_word = s[:unit]\n",
    "\n",
    "        for i in range(unit,len(s),unit):\n",
    "\n",
    "            if s[i:i+unit] == last_word:\n",
    "                count += 1\n",
    "\n",
    "            else:\n",
    "                if count==1:\n",
    "                    words += last_word\n",
    "                    last_word = s[i:i+unit]\n",
    "                else:\n",
    "                    words += str(count) + last_word\n",
    "                    last_word = s[i:i+unit]\n",
    "                count = 1\n",
    "\n",
    "        if count ==1:\n",
    "            words += s[-unit:]\n",
    "        else:\n",
    "            words += str(count) + s[-unit:]\n",
    "        answer.append(len(words))\n",
    "        words=\"\"\n",
    "    return min(answer)"
   ]
  }
 ],
 "metadata": {
  "kernelspec": {
   "display_name": "Python 3",
   "language": "python",
   "name": "python3"
  },
  "language_info": {
   "codemirror_mode": {
    "name": "ipython",
    "version": 3
   },
   "file_extension": ".py",
   "mimetype": "text/x-python",
   "name": "python",
   "nbconvert_exporter": "python",
   "pygments_lexer": "ipython3",
   "version": "3.8.5"
  }
 },
 "nbformat": 4,
 "nbformat_minor": 4
}
