{
 "cells": [
  {
   "cell_type": "code",
   "execution_count": 159,
   "metadata": {},
   "outputs": [],
   "source": [
    "record = [\"Enter uid1234 Muzi\", \n",
    "          \"Enter uid4567 Prodo\",\"Leave uid1234\",\n",
    "          \"Enter uid1234 Prodo\",\"Change uid4567 Ryan\"]\n",
    "\n",
    "result = [\"Prodo님이 들어왔습니다.\", \"Ryan님이 들어왔습니다.\", \n",
    "          \"Prodo님이 나갔습니다.\", \"Prodo님이 들어왔습니다.\"]"
   ]
  },
  {
   "cell_type": "markdown",
   "metadata": {},
   "source": [
    "1. 모든 아이디값을 가져온다(set)\n",
    "2. 아이디의 index에 대해서 change가 존재하는지 확인\n",
    "3. 존재한다 -> 마지막 change의 닉네임값으로 모든 출입을 변경 후 출력\n",
    "4. 존재하지 않는다 -> 기존 nick으로 모든 출입 출력"
   ]
  },
  {
   "cell_type": "code",
   "execution_count": 3,
   "metadata": {},
   "outputs": [],
   "source": [
    "status =[]\n",
    "ID = []\n",
    "nick =[]\n",
    "\n",
    "for i in record:\n",
    "    divide = i.split(\" \")\n",
    "    if len(divide)== 2:\n",
    "        status.append(divide), ID.append(divide[1]), nick.append(\" \")\n",
    "    else:\n",
    "        status.append(divide[:2]), ID.append(divide[1]), nick.append(divide[2])\n",
    "        \n",
    "id_count = set(ID)\n",
    "status.reverse()\n",
    "nick.reverse()\n",
    "\n",
    "change_list ={}\n",
    "no_change = []\n",
    "for i in id_count:\n",
    "    try: change_list[i] = status.index(['Change', i])\n",
    "    except: no_change.append(i)\n",
    "        \n",
    "        \n",
    "print_nick ={}\n",
    "for k,v in change_list.items():\n",
    "    print_nick[k] = nick[v]\n",
    "\n",
    "for i in no_change:\n",
    "    print_nick[i] = nick[status.index(['Enter', i])]\n",
    "    \n",
    "print_message= {'Enter':\"님이 들어왔습니다.\",\"Leave\":\"님이 나갔습니다.\"}\n",
    "\n",
    "status.reverse()\n",
    "\n",
    "answer = []\n",
    "for i in status:\n",
    "    try: answer.append(print_nick[i[1]] + print_message[i[0]])\n",
    "    except: continue"
   ]
  },
  {
   "cell_type": "markdown",
   "metadata": {},
   "source": [
    "## 테스트 1\n",
    "\n",
    "1. 정확도 낮음, 시간초과"
   ]
  },
  {
   "cell_type": "code",
   "execution_count": 22,
   "metadata": {},
   "outputs": [],
   "source": [
    "record_div = []\n",
    "id=[]\n",
    "for i in record:\n",
    "    record_div.append(i.split(\" \"))\n",
    "    id.append(i.split(\" \")[1])"
   ]
  },
  {
   "cell_type": "code",
   "execution_count": 48,
   "metadata": {},
   "outputs": [],
   "source": [
    "id = list(set(id))\n",
    "nick ={}\n",
    "for i in id:\n",
    "    for num in range(len(record_div)):\n",
    "        if  len(record_div[num])== 3 and i == record_div[num][1] :\n",
    "            nick[i] = record_div[num][2]"
   ]
  },
  {
   "cell_type": "code",
   "execution_count": 89,
   "metadata": {},
   "outputs": [],
   "source": [
    "print_message= {'Enter':\"님이 들어왔습니다.\",\"Leave\":\"님이 나갔습니다.\"}\n",
    "answer = []\n",
    "for num in range(len(record_div)):\n",
    "    if record_div[num][0] in print_message:\n",
    "        answer.append(nick[record_div[num][1]]+ print_message[record_div[num][0]])"
   ]
  },
  {
   "cell_type": "markdown",
   "metadata": {},
   "source": [
    "### 2차 방법:\n",
    "- 복잡한 코드 간소화\n",
    "- for문 합치기\n",
    "- dict형 사용 줄이기"
   ]
  },
  {
   "cell_type": "code",
   "execution_count": 157,
   "metadata": {
    "scrolled": true
   },
   "outputs": [],
   "source": [
    "id_list=[]\n",
    "action = []\n",
    "nick ={}\n",
    "answer = []\n",
    "for i in record:\n",
    "    temp = i.split(\" \")\n",
    "    \n",
    "    if temp[0] ==\"Enter\":\n",
    "        nick[temp[1]] = temp[2] \n",
    "        action.append(\"님이 들어왔습니다.\")\n",
    "        id_list.append(temp[1])\n",
    "    elif temp[0] ==\"Leave\":\n",
    "        action.append(\"님이 나갔습니다.\")\n",
    "        id_list.append(temp[1])\n",
    "    else:\n",
    "        nick[temp[1]] = temp[2]\n",
    "        \n",
    "for i in range(len(id_list)):\n",
    "    answer.append(nick[id_list[i]]+action[i])"
   ]
  }
 ],
 "metadata": {
  "kernelspec": {
   "display_name": "Python 3",
   "language": "python",
   "name": "python3"
  },
  "language_info": {
   "codemirror_mode": {
    "name": "ipython",
    "version": 3
   },
   "file_extension": ".py",
   "mimetype": "text/x-python",
   "name": "python",
   "nbconvert_exporter": "python",
   "pygments_lexer": "ipython3",
   "version": "3.8.5"
  }
 },
 "nbformat": 4,
 "nbformat_minor": 4
}
