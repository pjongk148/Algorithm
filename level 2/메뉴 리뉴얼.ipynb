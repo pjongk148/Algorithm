{
 "cells": [
  {
   "cell_type": "markdown",
   "metadata": {},
   "source": [
    "- 올리브영\n",
    "    1. 여드름 패치\n",
    "    2. 썬크림\n",
    "    3. 비비크림\n",
    "    4. 클렌징 폼\n",
    "    5."
   ]
  },
  {
   "cell_type": "markdown",
   "metadata": {},
   "source": [
    "1. 연구실\n",
    "    - 파이썬 실력 늘리기\n",
    "    - 밑바닥부터 시작하는 딥러닝\n",
    "    - 알고리즘, 자료구조\n",
    "\n",
    "2. ssafy gsat(11월 중순 적성), 25일부터 서류 지원"
   ]
  },
  {
   "cell_type": "code",
   "execution_count": null,
   "metadata": {},
   "outputs": [],
   "source": []
  },
  {
   "cell_type": "code",
   "execution_count": 106,
   "metadata": {},
   "outputs": [],
   "source": [
    "orders = [\"ABCFG\", \"AC\", \"CDE\", \"ACDE\", \"BCFG\", \"ACDEH\"]"
   ]
  },
  {
   "cell_type": "code",
   "execution_count": 110,
   "metadata": {},
   "outputs": [],
   "source": [
    "orders = [\"ABCDE\", \"AB\", \"CD\", \"ADE\", \"XYZ\", \"XYZ\", \"ACD\"]"
   ]
  },
  {
   "cell_type": "code",
   "execution_count": 35,
   "metadata": {},
   "outputs": [],
   "source": [
    "orders = [\"XYZ\", \"XWY\", \"WXA\"]"
   ]
  },
  {
   "cell_type": "code",
   "execution_count": 26,
   "metadata": {},
   "outputs": [
    {
     "name": "stdout",
     "output_type": "stream",
     "text": [
      "{1, 5}\n",
      "[1, 5]\n"
     ]
    }
   ],
   "source": [
    "A = [1, 3, 5, 7, 9]\n",
    "B = [10, 5, 1, 2, 4]\n",
    "\n",
    "C = set(A) & set(B)\n",
    "D = [i for i in A if i in B]\n",
    "\n",
    "print(C)\n",
    "print(D)"
   ]
  },
  {
   "cell_type": "code",
   "execution_count": null,
   "metadata": {},
   "outputs": [],
   "source": [
    "menu_list.append("
   ]
  },
  {
   "cell_type": "code",
   "execution_count": 91,
   "metadata": {},
   "outputs": [
    {
     "data": {
      "text/plain": [
       "'DAE'"
      ]
     },
     "execution_count": 91,
     "metadata": {},
     "output_type": "execute_result"
    }
   ],
   "source": [
    "\"\".join(list(set(orders[0]) & set(orders[3])))"
   ]
  },
  {
   "cell_type": "code",
   "execution_count": 115,
   "metadata": {},
   "outputs": [
    {
     "name": "stdout",
     "output_type": "stream",
     "text": [
      "AA\n",
      "AD\n",
      "AE\n",
      "DA\n",
      "DD\n",
      "DE\n",
      "EA\n",
      "ED\n",
      "EE\n"
     ]
    }
   ],
   "source": [
    "for i in \"ADE\":\n",
    "    for j in \"ADE\":\n",
    "        print(i+j)"
   ]
  },
  {
   "cell_type": "code",
   "execution_count": 119,
   "metadata": {},
   "outputs": [
    {
     "name": "stdout",
     "output_type": "stream",
     "text": [
      "A\n",
      "B\n"
     ]
    }
   ],
   "source": [
    "for i in [\"A\",\"B\"]:\n",
    "    print(i)"
   ]
  },
  {
   "cell_type": "code",
   "execution_count": 131,
   "metadata": {
    "scrolled": true
   },
   "outputs": [
    {
     "data": {
      "text/plain": [
       "'AA'"
      ]
     },
     "execution_count": 131,
     "metadata": {},
     "output_type": "execute_result"
    }
   ],
   "source": [
    "ade\n",
    "ad 1 2\n",
    "ae 1 3\n",
    "de 2 3\n"
   ]
  },
  {
   "cell_type": "code",
   "execution_count": 134,
   "metadata": {},
   "outputs": [
    {
     "data": {
      "text/plain": [
       "{'AB': 1, 'CD': 1, 'AD': 1}"
      ]
     },
     "execution_count": 134,
     "metadata": {},
     "output_type": "execute_result"
    }
   ],
   "source": [
    "menu_count"
   ]
  },
  {
   "cell_type": "code",
   "execution_count": 150,
   "metadata": {},
   "outputs": [],
   "source": [
    "a = \"\".join(orders)"
   ]
  },
  {
   "cell_type": "code",
   "execution_count": 158,
   "metadata": {},
   "outputs": [
    {
     "data": {
      "text/plain": [
       "['A', 'B', 'C', 'D', 'E', 'X', 'Y', 'Z']"
      ]
     },
     "execution_count": 158,
     "metadata": {},
     "output_type": "execute_result"
    }
   ],
   "source": [
    "a = list(set(a))\n",
    "a.sort()\n",
    "a"
   ]
  },
  {
   "cell_type": "code",
   "execution_count": 174,
   "metadata": {},
   "outputs": [],
   "source": []
  },
  {
   "cell_type": "code",
   "execution_count": 191,
   "metadata": {},
   "outputs": [
    {
     "data": {
      "text/plain": [
       "1168"
      ]
     },
     "execution_count": 191,
     "metadata": {},
     "output_type": "execute_result"
    }
   ],
   "source": [
    "i"
   ]
  },
  {
   "cell_type": "code",
   "execution_count": 190,
   "metadata": {},
   "outputs": [
    {
     "ename": "IndexError",
     "evalue": "list index out of range",
     "output_type": "error",
     "traceback": [
      "\u001b[1;31m---------------------------------------------------------------------------\u001b[0m",
      "\u001b[1;31mIndexError\u001b[0m                                Traceback (most recent call last)",
      "\u001b[1;32m<ipython-input-190-9a6bf3f9d768>\u001b[0m in \u001b[0;36m<module>\u001b[1;34m\u001b[0m\n\u001b[1;32m----> 1\u001b[1;33m \u001b[0mk\u001b[0m\u001b[1;33m[\u001b[0m\u001b[0mi\u001b[0m\u001b[1;33m]\u001b[0m\u001b[1;33m.\u001b[0m\u001b[0mcount\u001b[0m\u001b[1;33m(\u001b[0m\u001b[0mj\u001b[0m\u001b[1;33m)\u001b[0m \u001b[1;33m>\u001b[0m \u001b[1;36m2\u001b[0m\u001b[1;33m\u001b[0m\u001b[1;33m\u001b[0m\u001b[0m\n\u001b[0m",
      "\u001b[1;31mIndexError\u001b[0m: list index out of range"
     ]
    }
   ],
   "source": [
    "k[i].count(j) > 2"
   ]
  },
  {
   "cell_type": "code",
   "execution_count": 187,
   "metadata": {},
   "outputs": [
    {
     "data": {
      "text/plain": [
       "range(0, 1167)"
      ]
     },
     "execution_count": 187,
     "metadata": {},
     "output_type": "execute_result"
    }
   ],
   "source": [
    "range(len(k))"
   ]
  },
  {
   "cell_type": "code",
   "execution_count": 197,
   "metadata": {},
   "outputs": [
    {
     "data": {
      "text/plain": [
       "('A', 0)"
      ]
     },
     "execution_count": 197,
     "metadata": {},
     "output_type": "execute_result"
    }
   ],
   "source": [
    "\"A\",\"B\".count(j)"
   ]
  },
  {
   "cell_type": "code",
   "execution_count": 199,
   "metadata": {},
   "outputs": [
    {
     "data": {
      "text/plain": [
       "1167"
      ]
     },
     "execution_count": 199,
     "metadata": {},
     "output_type": "execute_result"
    }
   ],
   "source": [
    "len(k)"
   ]
  },
  {
   "cell_type": "code",
   "execution_count": 202,
   "metadata": {},
   "outputs": [
    {
     "data": {
      "text/plain": [
       "5"
      ]
     },
     "execution_count": 202,
     "metadata": {},
     "output_type": "execute_result"
    }
   ],
   "source": [
    "k[0].count(\"A\")"
   ]
  },
  {
   "cell_type": "code",
   "execution_count": 210,
   "metadata": {},
   "outputs": [
    {
     "data": {
      "text/plain": [
       "2"
      ]
     },
     "execution_count": 210,
     "metadata": {},
     "output_type": "execute_result"
    }
   ],
   "source": [
    "len(set(k[0]))"
   ]
  },
  {
   "cell_type": "code",
   "execution_count": 219,
   "metadata": {},
   "outputs": [
    {
     "data": {
      "text/plain": [
       "('A', 'B', 'C', 'D', 'E', 'X')"
      ]
     },
     "execution_count": 219,
     "metadata": {},
     "output_type": "execute_result"
    }
   ],
   "source": [
    "kk[0]"
   ]
  },
  {
   "cell_type": "code",
   "execution_count": 223,
   "metadata": {},
   "outputs": [
    {
     "data": {
      "text/plain": [
       "['A', 'B', 'C', 'D', 'E']"
      ]
     },
     "execution_count": 223,
     "metadata": {},
     "output_type": "execute_result"
    }
   ],
   "source": [
    "list(orders[0])"
   ]
  },
  {
   "cell_type": "code",
   "execution_count": 224,
   "metadata": {
    "scrolled": true
   },
   "outputs": [
    {
     "data": {
      "text/plain": [
       "True"
      ]
     },
     "execution_count": 224,
     "metadata": {},
     "output_type": "execute_result"
    }
   ],
   "source": [
    "\"A\" and \"B\" and \"C\" in list(orders[0])"
   ]
  },
  {
   "cell_type": "code",
   "execution_count": 211,
   "metadata": {},
   "outputs": [],
   "source": [
    "from itertools import combinations_with_replacement\n",
    "total = []\n",
    "\n",
    "\n",
    " = list(combinations_with_replacement(a,6))\n",
    "\n",
    "kk = []\n",
    "for i in range(len(k)):\n",
    "    if len(set(k[i])) > 5:\n",
    "        kk.append(k[i])"
   ]
  },
  {
   "cell_type": "code",
   "execution_count": 212,
   "metadata": {},
   "outputs": [
    {
     "data": {
      "text/plain": [
       "28"
      ]
     },
     "execution_count": 212,
     "metadata": {},
     "output_type": "execute_result"
    }
   ],
   "source": [
    "len(kk)"
   ]
  },
  {
   "cell_type": "code",
   "execution_count": 195,
   "metadata": {},
   "outputs": [
    {
     "data": {
      "text/plain": [
       "7505"
      ]
     },
     "execution_count": 195,
     "metadata": {},
     "output_type": "execute_result"
    }
   ],
   "source": [
    "len(kk)"
   ]
  },
  {
   "cell_type": "code",
   "execution_count": 267,
   "metadata": {},
   "outputs": [],
   "source": [
    "menu_count[menu_two] += 1"
   ]
  },
  {
   "cell_type": "code",
   "execution_count": 268,
   "metadata": {},
   "outputs": [
    {
     "data": {
      "text/plain": [
       "6"
      ]
     },
     "execution_count": 268,
     "metadata": {},
     "output_type": "execute_result"
    }
   ],
   "source": [
    "menu_count[menu_two]"
   ]
  },
  {
   "cell_type": "code",
   "execution_count": 275,
   "metadata": {
    "scrolled": true
   },
   "outputs": [
    {
     "name": "stdout",
     "output_type": "stream",
     "text": [
      "AB\n",
      "CD\n",
      "['A', 'D', 'E']\n",
      "CD\n",
      "['X', 'Y', 'Z']\n",
      "['A', 'C', 'D']\n",
      "CD\n"
     ]
    }
   ],
   "source": [
    "menu_list = []\n",
    "menu_count = {}\n",
    "menu_2=[]\n",
    "for i in range(len(orders)):\n",
    "    for j in range(0,i):\n",
    "        menu = list(set(orders[j]) & set(orders[i]))\n",
    "        menu.sort()\n",
    "        \n",
    "        \n",
    "        \n",
    "        if menu ==[]:\n",
    "            continue\n",
    "        else:\n",
    "            \n",
    "            \n",
    "            if len(menu) > 2:\n",
    "                print(menu)\n",
    "                for i in range(len(menu)):\n",
    "                    for j in range(i+1, len(menu)):\n",
    "                        menu_two = menu[i] +menu[j]\n",
    "                        #print(menu_two)\n",
    "                        if menu_two in menu_list:\n",
    "                            menu_count[menu_two] += 1\n",
    "                            \n",
    "\n",
    "                        else:\n",
    "                            menu_list.append(menu_two)\n",
    "                            menu_count[menu_two] = 1\n",
    "                            \n",
    "                            \n",
    "                            \n",
    "                            \n",
    "\n",
    "                menu = \"\".join(menu)\n",
    "               \n",
    "                if menu in menu_list:\n",
    "                    menu_count[menu] += 1\n",
    "\n",
    "                elif menu not in menu_list:\n",
    "                    menu_list.append(menu)\n",
    "                    menu_count[menu] = 1\n",
    "\n",
    "            elif len(menu) == 2:\n",
    "                menu = \"\".join(menu)\n",
    "                print(menu)\n",
    "                if menu in menu_list:\n",
    "                    menu_count[menu] += 1\n",
    "\n",
    "                else:\n",
    "                    menu_list.append(menu)\n",
    "                    menu_count[menu] = 1\n",
    "\n",
    "\n",
    "            else:\n",
    "                continue\n",
    "                \n",
    "result = []\n",
    "course = []\n",
    "for i,v in menu_count.items():\n",
    "    for i in range(2,len(max(menu_list, key=len))+1)\n",
    "    if len(i) "
   ]
  },
  {
   "cell_type": "code",
   "execution_count": 305,
   "metadata": {},
   "outputs": [
    {
     "data": {
      "text/plain": [
       "'ADE'"
      ]
     },
     "execution_count": 305,
     "metadata": {},
     "output_type": "execute_result"
    }
   ],
   "source": []
  },
  {
   "cell_type": "code",
   "execution_count": 302,
   "metadata": {},
   "outputs": [
    {
     "name": "stdout",
     "output_type": "stream",
     "text": [
      "2\n",
      "3\n"
     ]
    }
   ],
   "source": [
    "for i in range(2,len(max(menu_list, key=len))+1):\n",
    "    print(i)"
   ]
  },
  {
   "cell_type": "code",
   "execution_count": 299,
   "metadata": {},
   "outputs": [
    {
     "data": {
      "text/plain": [
       "['AB', 'CD', 'AD', 'AE', 'DE', 'ADE', 'XY', 'XZ', 'YZ', 'XYZ', 'AC', 'ACD']"
      ]
     },
     "execution_count": 299,
     "metadata": {},
     "output_type": "execute_result"
    }
   ],
   "source": [
    "menu_list"
   ]
  },
  {
   "cell_type": "code",
   "execution_count": 300,
   "metadata": {},
   "outputs": [
    {
     "data": {
      "text/plain": [
       "3"
      ]
     },
     "execution_count": 300,
     "metadata": {},
     "output_type": "execute_result"
    }
   ],
   "source": []
  },
  {
   "cell_type": "code",
   "execution_count": 292,
   "metadata": {},
   "outputs": [],
   "source": [
    "\n",
    "    "
   ]
  },
  {
   "cell_type": "code",
   "execution_count": 293,
   "metadata": {},
   "outputs": [
    {
     "data": {
      "text/plain": [
       "['CD', 'AD']"
      ]
     },
     "execution_count": 293,
     "metadata": {},
     "output_type": "execute_result"
    }
   ],
   "source": [
    "result"
   ]
  },
  {
   "cell_type": "code",
   "execution_count": 260,
   "metadata": {},
   "outputs": [
    {
     "data": {
      "text/plain": [
       "['AB', 'CD', 'AD', 'AE', 'DE', 'ADE', 'XY', 'XZ', 'YZ', 'XYZ', 'AC', 'ACD']"
      ]
     },
     "execution_count": 260,
     "metadata": {},
     "output_type": "execute_result"
    }
   ],
   "source": [
    "menu_list"
   ]
  },
  {
   "cell_type": "code",
   "execution_count": null,
   "metadata": {},
   "outputs": [],
   "source": [
    "[k for k,v in di.items() if max(di.values()) == v]"
   ]
  },
  {
   "cell_type": "code",
   "execution_count": 329,
   "metadata": {},
   "outputs": [
    {
     "data": {
      "text/plain": [
       "{'AB': 1,\n",
       " 'CD': 4,\n",
       " 'AD': 2,\n",
       " 'AE': 1,\n",
       " 'DE': 1,\n",
       " 'ADE': 1,\n",
       " 'XY': 1,\n",
       " 'XZ': 1,\n",
       " 'YZ': 1,\n",
       " 'XYZ': 1,\n",
       " 'AC': 1,\n",
       " 'ACD': 1}"
      ]
     },
     "execution_count": 329,
     "metadata": {},
     "output_type": "execute_result"
    }
   ],
   "source": [
    "menu_count"
   ]
  },
  {
   "cell_type": "code",
   "execution_count": 326,
   "metadata": {},
   "outputs": [
    {
     "data": {
      "text/plain": [
       "[]"
      ]
     },
     "execution_count": 326,
     "metadata": {},
     "output_type": "execute_result"
    }
   ],
   "source": [
    "[k for k,v in menu_count.items() if max(menu_count.values()) == 1 and len(k) == len(max(menu_count, key=len))]"
   ]
  },
  {
   "cell_type": "code",
   "execution_count": 312,
   "metadata": {},
   "outputs": [
    {
     "data": {
      "text/plain": [
       "'ADE'"
      ]
     },
     "execution_count": 312,
     "metadata": {},
     "output_type": "execute_result"
    }
   ],
   "source": [
    "max(menu_count, key=len)"
   ]
  },
  {
   "cell_type": "code",
   "execution_count": 276,
   "metadata": {
    "scrolled": true
   },
   "outputs": [
    {
     "data": {
      "text/plain": [
       "{'AB': 1,\n",
       " 'CD': 4,\n",
       " 'AD': 2,\n",
       " 'AE': 1,\n",
       " 'DE': 1,\n",
       " 'ADE': 1,\n",
       " 'XY': 1,\n",
       " 'XZ': 1,\n",
       " 'YZ': 1,\n",
       " 'XYZ': 1,\n",
       " 'AC': 1,\n",
       " 'ACD': 1}"
      ]
     },
     "execution_count": 276,
     "metadata": {},
     "output_type": "execute_result"
    }
   ],
   "source": [
    "if max(menu_count"
   ]
  },
  {
   "cell_type": "code",
   "execution_count": 50,
   "metadata": {},
   "outputs": [
    {
     "data": {
      "text/plain": [
       "[{'X', 'Y'}, {'X'}, {'W', 'X'}]"
      ]
     },
     "execution_count": 50,
     "metadata": {},
     "output_type": "execute_result"
    }
   ],
   "source": [
    "menu_list"
   ]
  },
  {
   "cell_type": "code",
   "execution_count": 78,
   "metadata": {
    "scrolled": true
   },
   "outputs": [
    {
     "name": "stdout",
     "output_type": "stream",
     "text": [
      "0 1 \n",
      "=== {'A', 'B'} \n",
      "=== [{'A', 'B'}] \n",
      "=== {'AB': 1}\n",
      "------------------------------------------\n",
      "0 2 \n",
      "=== {'D', 'C'} \n",
      "=== [{'A', 'B'}, {'D', 'C'}] \n",
      "=== {'AB': 1, 'DC': 1}\n",
      "------------------------------------------\n",
      "0 3 \n",
      "=== {'D', 'A', 'E'} \n",
      "=== [{'A', 'B'}, {'D', 'C'}, {'D', 'A', 'E'}] \n",
      "=== {'AB': 1, 'DC': 1, 'DAE': 1}\n",
      "------------------------------------------\n",
      "0 6 \n",
      "=== {'D', 'A', 'C'} \n",
      "=== [{'A', 'B'}, {'D', 'C'}, {'D', 'A', 'E'}, {'D', 'A', 'C'}] \n",
      "=== {'AB': 1, 'DC': 1, 'DAE': 1, 'DAC': 1}\n",
      "------------------------------------------\n",
      "1 0 \n",
      "=== {'A', 'B'} \n",
      "=== [{'A', 'B'}, {'D', 'C'}, {'D', 'A', 'E'}, {'D', 'A', 'C'}, {'A', 'B'}] \n",
      "=== {'AB': 2, 'DC': 1, 'DAE': 1, 'DAC': 1}\n",
      "------------------------------------------\n",
      "2 0 \n",
      "=== {'D', 'C'} \n",
      "=== [{'A', 'B'}, {'D', 'C'}, {'D', 'A', 'E'}, {'D', 'A', 'C'}, {'A', 'B'}, {'D', 'C'}] \n",
      "=== {'AB': 2, 'DC': 2, 'DAE': 1, 'DAC': 1}\n",
      "------------------------------------------\n",
      "2 6 \n",
      "=== {'D', 'C'} \n",
      "=== [{'A', 'B'}, {'D', 'C'}, {'D', 'A', 'E'}, {'D', 'A', 'C'}, {'A', 'B'}, {'D', 'C'}, {'D', 'C'}] \n",
      "=== {'AB': 2, 'DC': 3, 'DAE': 1, 'DAC': 1}\n",
      "------------------------------------------\n",
      "3 0 \n",
      "=== {'D', 'A', 'E'} \n",
      "=== [{'A', 'B'}, {'D', 'C'}, {'D', 'A', 'E'}, {'D', 'A', 'C'}, {'A', 'B'}, {'D', 'C'}, {'D', 'C'}, {'D', 'A', 'E'}] \n",
      "=== {'AB': 2, 'DC': 3, 'DAE': 2, 'DAC': 1}\n",
      "------------------------------------------\n",
      "3 6 \n",
      "=== {'D', 'A'} \n",
      "=== [{'A', 'B'}, {'D', 'C'}, {'D', 'A', 'E'}, {'D', 'A', 'C'}, {'A', 'B'}, {'D', 'C'}, {'D', 'C'}, {'D', 'A', 'E'}, {'D', 'A'}] \n",
      "=== {'AB': 2, 'DC': 3, 'DAE': 2, 'DAC': 1, 'DA': 1}\n",
      "------------------------------------------\n",
      "4 5 \n",
      "=== {'Z', 'Y', 'X'} \n",
      "=== [{'A', 'B'}, {'D', 'C'}, {'D', 'A', 'E'}, {'D', 'A', 'C'}, {'A', 'B'}, {'D', 'C'}, {'D', 'C'}, {'D', 'A', 'E'}, {'D', 'A'}, {'Z', 'Y', 'X'}] \n",
      "=== {'AB': 2, 'DC': 3, 'DAE': 2, 'DAC': 1, 'DA': 1, 'ZYX': 1}\n",
      "------------------------------------------\n",
      "5 4 \n",
      "=== {'Z', 'Y', 'X'} \n",
      "=== [{'A', 'B'}, {'D', 'C'}, {'D', 'A', 'E'}, {'D', 'A', 'C'}, {'A', 'B'}, {'D', 'C'}, {'D', 'C'}, {'D', 'A', 'E'}, {'D', 'A'}, {'Z', 'Y', 'X'}, {'Z', 'Y', 'X'}] \n",
      "=== {'AB': 2, 'DC': 3, 'DAE': 2, 'DAC': 1, 'DA': 1, 'ZYX': 2}\n",
      "------------------------------------------\n",
      "6 0 \n",
      "=== {'D', 'A', 'C'} \n",
      "=== [{'A', 'B'}, {'D', 'C'}, {'D', 'A', 'E'}, {'D', 'A', 'C'}, {'A', 'B'}, {'D', 'C'}, {'D', 'C'}, {'D', 'A', 'E'}, {'D', 'A'}, {'Z', 'Y', 'X'}, {'Z', 'Y', 'X'}, {'D', 'A', 'C'}] \n",
      "=== {'AB': 2, 'DC': 3, 'DAE': 2, 'DAC': 2, 'DA': 1, 'ZYX': 2}\n",
      "------------------------------------------\n",
      "6 2 \n",
      "=== {'D', 'C'} \n",
      "=== [{'A', 'B'}, {'D', 'C'}, {'D', 'A', 'E'}, {'D', 'A', 'C'}, {'A', 'B'}, {'D', 'C'}, {'D', 'C'}, {'D', 'A', 'E'}, {'D', 'A'}, {'Z', 'Y', 'X'}, {'Z', 'Y', 'X'}, {'D', 'A', 'C'}, {'D', 'C'}] \n",
      "=== {'AB': 2, 'DC': 4, 'DAE': 2, 'DAC': 2, 'DA': 1, 'ZYX': 2}\n",
      "------------------------------------------\n",
      "6 3 \n",
      "=== {'D', 'A'} \n",
      "=== [{'A', 'B'}, {'D', 'C'}, {'D', 'A', 'E'}, {'D', 'A', 'C'}, {'A', 'B'}, {'D', 'C'}, {'D', 'C'}, {'D', 'A', 'E'}, {'D', 'A'}, {'Z', 'Y', 'X'}, {'Z', 'Y', 'X'}, {'D', 'A', 'C'}, {'D', 'C'}, {'D', 'A'}] \n",
      "=== {'AB': 2, 'DC': 4, 'DAE': 2, 'DAC': 2, 'DA': 2, 'ZYX': 2}\n",
      "------------------------------------------\n"
     ]
    }
   ],
   "source": [
    "menu=[]\n",
    "for i in orders:\n",
    "    menu.append(set(i))\n",
    "\n",
    "menu_list =[]\n",
    "menu_count = {}\n",
    "for i in range(len(menu)):\n",
    "    for j in range(len(menu)):\n",
    "        \n",
    "        if i == j or menu[i] & menu[j] == set():\n",
    "            continue\n",
    "            \n",
    "        elif len(menu[i] & menu[j]) == 1:\n",
    "            continue\n",
    "            \n",
    "        else:\n",
    "            if menu[i] & menu[j] in menu_list:\n",
    "                menu_count[\"\".join(menu[i] & menu[j])] += 1\n",
    "                menu_list.append(menu[i] & menu[j])\n",
    "\n",
    "            elif menu[i] & menu[j] not in menu_list:\n",
    "                menu_count[\"\".join(menu[i] & menu[j])] = 1\n",
    "                menu_list.append(menu[i] & menu[j])\n",
    "\n",
    "            print(i,j, \"\\n===\", menu[i] & menu[j],\"\\n===\",menu_list,\"\\n===\", menu_count)\n",
    "            print(\"------------------------------------------\")"
   ]
  },
  {
   "cell_type": "code",
   "execution_count": 79,
   "metadata": {},
   "outputs": [
    {
     "data": {
      "text/plain": [
       "{'AB': 2, 'DC': 4, 'DAE': 2, 'DAC': 2, 'DA': 2, 'ZYX': 2}"
      ]
     },
     "execution_count": 79,
     "metadata": {},
     "output_type": "execute_result"
    }
   ],
   "source": [
    "menu_count"
   ]
  },
  {
   "cell_type": "code",
   "execution_count": 115,
   "metadata": {},
   "outputs": [],
   "source": [
    " m1 = list(menu[5]  & menu[3])\n",
    "m1.sort()"
   ]
  }
 ],
 "metadata": {
  "kernelspec": {
   "display_name": "Python 3",
   "language": "python",
   "name": "python3"
  },
  "language_info": {
   "codemirror_mode": {
    "name": "ipython",
    "version": 3
   },
   "file_extension": ".py",
   "mimetype": "text/x-python",
   "name": "python",
   "nbconvert_exporter": "python",
   "pygments_lexer": "ipython3",
   "version": "3.8.5"
  }
 },
 "nbformat": 4,
 "nbformat_minor": 4
}
