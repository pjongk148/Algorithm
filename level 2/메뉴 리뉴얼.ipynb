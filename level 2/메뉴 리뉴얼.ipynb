{
 "cells": [
  {
   "cell_type": "code",
   "execution_count": 143,
   "metadata": {},
   "outputs": [],
   "source": [
    "orders = [\"ABCFG\", \"AC\", \"CDE\", \"ACDE\", \"BCFG\", \"ACDEH\"]"
   ]
  },
  {
   "cell_type": "code",
   "execution_count": 98,
   "metadata": {},
   "outputs": [],
   "source": [
    "orders = [\"ABCDE\", \"AB\", \"CD\", \"ADE\", \"XYZ\", \"XYZ\", \"ACD\"]"
   ]
  },
  {
   "cell_type": "code",
   "execution_count": 178,
   "metadata": {},
   "outputs": [],
   "source": [
    "orders = [\"XYZ\", \"XWY\", \"WXA\"]"
   ]
  },
  {
   "cell_type": "code",
   "execution_count": 18,
   "metadata": {},
   "outputs": [
    {
     "data": {
      "text/plain": [
       "['XYZ', 'XWY', 'WXA']"
      ]
     },
     "execution_count": 18,
     "metadata": {},
     "output_type": "execute_result"
    }
   ],
   "source": [
    "orders"
   ]
  },
  {
   "cell_type": "markdown",
   "metadata": {},
   "source": [
    "### 1차 테스트: set을 이용했지만 반복문자가 겹칠경우 파악 x"
   ]
  },
  {
   "cell_type": "code",
   "execution_count": 120,
   "metadata": {},
   "outputs": [],
   "source": [
    "common = []\n",
    "menu_count ={}\n",
    "for i in range(len(orders)):\n",
    "    for j in range(0,i):\n",
    "        menu = list(set(orders[j]) & set(orders[i]))\n",
    "        if len(menu) > 1:\n",
    "            menu.sort()\n",
    "            menu_txt = (\"\".join(menu))\n",
    "            common.append(menu_txt)\n",
    "            if menu_txt in menu_count:\n",
    "                menu_count[menu_txt] +=1\n",
    "            else:\n",
    "                menu_count[menu_txt] = 1\n",
    "            \n",
    "            \n",
    "            \n",
    "common= list(set(common))"
   ]
  },
  {
   "cell_type": "markdown",
   "metadata": {},
   "source": [
    "### 2. 구글링을 통해 combinations, counter 모듈 확인"
   ]
  },
  {
   "cell_type": "code",
   "execution_count": 196,
   "metadata": {},
   "outputs": [],
   "source": [
    "course =[2,3,4]"
   ]
  },
  {
   "cell_type": "code",
   "execution_count": 197,
   "metadata": {},
   "outputs": [],
   "source": [
    "from itertools import combinations\n",
    "from collections import Counter\n",
    "\n",
    "\n",
    "\n",
    "answer = []\n",
    "for i in course:\n",
    "    temp = []\n",
    "    for menu in orders:\n",
    "        comb = combinations(sorted(menu), i)\n",
    "        temp += comb\n",
    "    counter = Counter(temp)\n",
    "    if len(counter) != 0 and max(counter.values()) > 1:\n",
    "        answer += [''.join(f) for f in counter if counter[f] == max(counter.values())]\n",
    "\n",
    "answer.sort()"
   ]
  }
 ],
 "metadata": {
  "kernelspec": {
   "display_name": "Python 3",
   "language": "python",
   "name": "python3"
  },
  "language_info": {
   "codemirror_mode": {
    "name": "ipython",
    "version": 3
   },
   "file_extension": ".py",
   "mimetype": "text/x-python",
   "name": "python",
   "nbconvert_exporter": "python",
   "pygments_lexer": "ipython3",
   "version": "3.8.5"
  }
 },
 "nbformat": 4,
 "nbformat_minor": 4
}
