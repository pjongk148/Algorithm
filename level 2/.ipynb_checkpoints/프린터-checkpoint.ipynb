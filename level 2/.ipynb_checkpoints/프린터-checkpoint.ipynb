{
 "cells": [
  {
   "cell_type": "markdown",
   "metadata": {},
   "source": [
    "### 프로그래머스 lv.2 프린터"
   ]
  },
  {
   "cell_type": "code",
   "execution_count": 273,
   "metadata": {},
   "outputs": [],
   "source": [
    "priorities= [1, 2, 3, 2]\n",
    "location = "
   ]
  },
  {
   "cell_type": "code",
   "execution_count": 274,
   "metadata": {},
   "outputs": [
    {
     "name": "stdout",
     "output_type": "stream",
     "text": [
      "3\n"
     ]
    }
   ],
   "source": [
    "if priorities[location] == max(priorities):\n",
    "    print(1)\n",
    "count = 0\n",
    "while priorities:\n",
    "    if priorities[0] ==  max(priorities):\n",
    "        if location == 0:\n",
    "            count +=1\n",
    "            print(count)\n",
    "            break\n",
    "        else:\n",
    "            location -= 1\n",
    "            priorities.pop(0)\n",
    "            count += 1\n",
    "    else:\n",
    "        if location == 0:\n",
    "            location = len(priorities)-1\n",
    "            priorities.append(priorities[0])\n",
    "            priorities.pop(0)\n",
    "        else:\n",
    "            location -= 1\n",
    "            priorities.append(priorities[0])\n",
    "            priorities.pop(0)"
   ]
  },
  {
   "cell_type": "code",
   "execution_count": 270,
   "metadata": {},
   "outputs": [
    {
     "data": {
      "text/plain": [
       "1"
      ]
     },
     "execution_count": 270,
     "metadata": {},
     "output_type": "execute_result"
    }
   ],
   "source": [
    "count"
   ]
  },
  {
   "cell_type": "code",
   "execution_count": null,
   "metadata": {},
   "outputs": [],
   "source": []
  },
  {
   "cell_type": "code",
   "execution_count": 228,
   "metadata": {},
   "outputs": [
    {
     "data": {
      "text/plain": [
       "6"
      ]
     },
     "execution_count": 228,
     "metadata": {},
     "output_type": "execute_result"
    }
   ],
   "source": [
    "len(priorities)"
   ]
  }
 ],
 "metadata": {
  "kernelspec": {
   "display_name": "Python 3",
   "language": "python",
   "name": "python3"
  },
  "language_info": {
   "codemirror_mode": {
    "name": "ipython",
    "version": 3
   },
   "file_extension": ".py",
   "mimetype": "text/x-python",
   "name": "python",
   "nbconvert_exporter": "python",
   "pygments_lexer": "ipython3",
   "version": "3.8.5"
  }
 },
 "nbformat": 4,
 "nbformat_minor": 4
}
