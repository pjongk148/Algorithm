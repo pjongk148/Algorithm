{
 "cells": [
  {
   "cell_type": "code",
   "execution_count": 132,
   "metadata": {},
   "outputs": [],
   "source": [
    "phone_book = [ \"97674223\", \"1195524421\",\"119\"]"
   ]
  },
  {
   "cell_type": "code",
   "execution_count": 102,
   "metadata": {},
   "outputs": [],
   "source": [
    "phone_book.sort(key=len)\n",
    "text = \".\"+ \".\".join(phone_book)\n",
    "for i in phone_book:\n",
    "    if text.count(\".\"+i) > 1:\n",
    "        answer = False\n",
    "        break\n",
    "    else:\n",
    "        answer = True"
   ]
  },
  {
   "cell_type": "markdown",
   "metadata": {},
   "source": [
    "### 테스트 1\n",
    "- 문자 맞는경우 확인했을 때 break 일 경우 최악의 경우 맨 뒤에 위치해 늦어질 수 있음\n",
    "\n",
    "###### 방법) 문자열 sort할 때 123 1234 234 이런식으로 정렬되는 것을 활용, 다음  문자가  포함하고 있는지 확인하기"
   ]
  },
  {
   "cell_type": "code",
   "execution_count": 136,
   "metadata": {},
   "outputs": [],
   "source": [
    "answer =True\n",
    "phone_book.sort()\n",
    "for i in range(len(phone_book)-1):\n",
    "    if phone_book[i] == phone_book[i+1][:len(phone_book[i])]:\n",
    "        answer = False\n",
    "        break"
   ]
  }
 ],
 "metadata": {
  "kernelspec": {
   "display_name": "Python 3",
   "language": "python",
   "name": "python3"
  },
  "language_info": {
   "codemirror_mode": {
    "name": "ipython",
    "version": 3
   },
   "file_extension": ".py",
   "mimetype": "text/x-python",
   "name": "python",
   "nbconvert_exporter": "python",
   "pygments_lexer": "ipython3",
   "version": "3.8.5"
  }
 },
 "nbformat": 4,
 "nbformat_minor": 4
}
